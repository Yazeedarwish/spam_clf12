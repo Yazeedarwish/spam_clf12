{
 "cells": [
  {
   "cell_type": "markdown",
   "metadata": {
    "id": "OThAFXkJ7EaF"
   },
   "source": [
    "***in this notebook we need to access the model we built and the previous work that we have done over the days. so you either copy you this notebook to the one where you built your model, or you copy the other notebooks to this one.***\n"
   ]
  },
  {
   "cell_type": "code",
   "execution_count": 1,
   "metadata": {},
   "outputs": [],
   "source": [
    "import numpy as np\n",
    "import pandas as pd\n",
    "import matplotlib.pyplot as plt\n",
    "import warnings\n",
    "import seaborn as sns\n",
    "from sklearn.model_selection import train_test_split\n",
    "from sklearn.ensemble import RandomForestClassifier\n",
    "from sklearn.svm import SVC\n",
    "from sklearn.metrics import accuracy_score,classification_report,confusion_matrix\n",
    "from sklearn.pipeline import Pipeline\n",
    "from sklearn.feature_extraction.text import TfidfVectorizer\n",
    "from sklearn.metrics import confusion_matrix\n",
    "from sklearn.metrics import classification_report\n",
    "\n",
    "warnings.filterwarnings('ignore')"
   ]
  },
  {
   "cell_type": "code",
   "execution_count": 2,
   "metadata": {},
   "outputs": [
    {
     "data": {
      "text/html": [
       "<div>\n",
       "<style scoped>\n",
       "    .dataframe tbody tr th:only-of-type {\n",
       "        vertical-align: middle;\n",
       "    }\n",
       "\n",
       "    .dataframe tbody tr th {\n",
       "        vertical-align: top;\n",
       "    }\n",
       "\n",
       "    .dataframe thead th {\n",
       "        text-align: right;\n",
       "    }\n",
       "</style>\n",
       "<table border=\"1\" class=\"dataframe\">\n",
       "  <thead>\n",
       "    <tr style=\"text-align: right;\">\n",
       "      <th></th>\n",
       "      <th>label</th>\n",
       "      <th>message</th>\n",
       "      <th>length</th>\n",
       "      <th>punct</th>\n",
       "    </tr>\n",
       "  </thead>\n",
       "  <tbody>\n",
       "    <tr>\n",
       "      <th>0</th>\n",
       "      <td>ham</td>\n",
       "      <td>Go until jurong point, crazy.. Available only ...</td>\n",
       "      <td>111</td>\n",
       "      <td>9</td>\n",
       "    </tr>\n",
       "    <tr>\n",
       "      <th>1</th>\n",
       "      <td>ham</td>\n",
       "      <td>Ok lar... Joking wif u oni...</td>\n",
       "      <td>29</td>\n",
       "      <td>6</td>\n",
       "    </tr>\n",
       "    <tr>\n",
       "      <th>2</th>\n",
       "      <td>spam</td>\n",
       "      <td>Free entry in 2 a wkly comp to win FA Cup fina...</td>\n",
       "      <td>155</td>\n",
       "      <td>6</td>\n",
       "    </tr>\n",
       "    <tr>\n",
       "      <th>3</th>\n",
       "      <td>ham</td>\n",
       "      <td>U dun say so early hor... U c already then say...</td>\n",
       "      <td>49</td>\n",
       "      <td>6</td>\n",
       "    </tr>\n",
       "    <tr>\n",
       "      <th>4</th>\n",
       "      <td>ham</td>\n",
       "      <td>Nah I don't think he goes to usf, he lives aro...</td>\n",
       "      <td>61</td>\n",
       "      <td>2</td>\n",
       "    </tr>\n",
       "  </tbody>\n",
       "</table>\n",
       "</div>"
      ],
      "text/plain": [
       "  label                                            message  length  punct\n",
       "0   ham  Go until jurong point, crazy.. Available only ...     111      9\n",
       "1   ham                      Ok lar... Joking wif u oni...      29      6\n",
       "2  spam  Free entry in 2 a wkly comp to win FA Cup fina...     155      6\n",
       "3   ham  U dun say so early hor... U c already then say...      49      6\n",
       "4   ham  Nah I don't think he goes to usf, he lives aro...      61      2"
      ]
     },
     "execution_count": 2,
     "metadata": {},
     "output_type": "execute_result"
    }
   ],
   "source": [
    "data = pd.read_csv(r'spam.tsv')\n",
    "data.head()"
   ]
  },
  {
   "cell_type": "code",
   "execution_count": 3,
   "metadata": {},
   "outputs": [],
   "source": [
    "spam = data[data['label'] == 'spam']\n",
    "ham = data[data['label'] == 'ham']"
   ]
  },
  {
   "cell_type": "code",
   "execution_count": 4,
   "metadata": {},
   "outputs": [
    {
     "data": {
      "text/html": [
       "<div>\n",
       "<style scoped>\n",
       "    .dataframe tbody tr th:only-of-type {\n",
       "        vertical-align: middle;\n",
       "    }\n",
       "\n",
       "    .dataframe tbody tr th {\n",
       "        vertical-align: top;\n",
       "    }\n",
       "\n",
       "    .dataframe thead th {\n",
       "        text-align: right;\n",
       "    }\n",
       "</style>\n",
       "<table border=\"1\" class=\"dataframe\">\n",
       "  <thead>\n",
       "    <tr style=\"text-align: right;\">\n",
       "      <th></th>\n",
       "      <th>label</th>\n",
       "      <th>message</th>\n",
       "      <th>length</th>\n",
       "      <th>punct</th>\n",
       "    </tr>\n",
       "  </thead>\n",
       "  <tbody>\n",
       "    <tr>\n",
       "      <th>3959</th>\n",
       "      <td>ham</td>\n",
       "      <td>So i could kiss and feel you next to me...</td>\n",
       "      <td>42</td>\n",
       "      <td>3</td>\n",
       "    </tr>\n",
       "    <tr>\n",
       "      <th>1004</th>\n",
       "      <td>ham</td>\n",
       "      <td>&amp;lt;#&amp;gt;  am I think? Should say on syllabus</td>\n",
       "      <td>45</td>\n",
       "      <td>6</td>\n",
       "    </tr>\n",
       "    <tr>\n",
       "      <th>3734</th>\n",
       "      <td>ham</td>\n",
       "      <td>Old Orchard near univ. How about you?</td>\n",
       "      <td>37</td>\n",
       "      <td>2</td>\n",
       "    </tr>\n",
       "    <tr>\n",
       "      <th>4368</th>\n",
       "      <td>ham</td>\n",
       "      <td>I like dis sweater fr mango but no more my siz...</td>\n",
       "      <td>70</td>\n",
       "      <td>1</td>\n",
       "    </tr>\n",
       "    <tr>\n",
       "      <th>1279</th>\n",
       "      <td>ham</td>\n",
       "      <td>Can i meet ü at 5.. As 4 where depends on wher...</td>\n",
       "      <td>64</td>\n",
       "      <td>4</td>\n",
       "    </tr>\n",
       "  </tbody>\n",
       "</table>\n",
       "</div>"
      ],
      "text/plain": [
       "     label                                            message  length  punct\n",
       "3959   ham         So i could kiss and feel you next to me...      42      3\n",
       "1004   ham      &lt;#&gt;  am I think? Should say on syllabus      45      6\n",
       "3734   ham              Old Orchard near univ. How about you?      37      2\n",
       "4368   ham  I like dis sweater fr mango but no more my siz...      70      1\n",
       "1279   ham  Can i meet ü at 5.. As 4 where depends on wher...      64      4"
      ]
     },
     "execution_count": 4,
     "metadata": {},
     "output_type": "execute_result"
    }
   ],
   "source": [
    "# Down sampling\n",
    "ham = ham.sample(n = len(spam))\n",
    "ham.head()"
   ]
  },
  {
   "cell_type": "code",
   "execution_count": 5,
   "metadata": {},
   "outputs": [
    {
     "data": {
      "text/html": [
       "<div>\n",
       "<style scoped>\n",
       "    .dataframe tbody tr th:only-of-type {\n",
       "        vertical-align: middle;\n",
       "    }\n",
       "\n",
       "    .dataframe tbody tr th {\n",
       "        vertical-align: top;\n",
       "    }\n",
       "\n",
       "    .dataframe thead th {\n",
       "        text-align: right;\n",
       "    }\n",
       "</style>\n",
       "<table border=\"1\" class=\"dataframe\">\n",
       "  <thead>\n",
       "    <tr style=\"text-align: right;\">\n",
       "      <th></th>\n",
       "      <th>label</th>\n",
       "      <th>message</th>\n",
       "      <th>length</th>\n",
       "      <th>punct</th>\n",
       "    </tr>\n",
       "  </thead>\n",
       "  <tbody>\n",
       "    <tr>\n",
       "      <th>0</th>\n",
       "      <td>ham</td>\n",
       "      <td>So i could kiss and feel you next to me...</td>\n",
       "      <td>42</td>\n",
       "      <td>3</td>\n",
       "    </tr>\n",
       "    <tr>\n",
       "      <th>1</th>\n",
       "      <td>ham</td>\n",
       "      <td>&amp;lt;#&amp;gt;  am I think? Should say on syllabus</td>\n",
       "      <td>45</td>\n",
       "      <td>6</td>\n",
       "    </tr>\n",
       "    <tr>\n",
       "      <th>2</th>\n",
       "      <td>ham</td>\n",
       "      <td>Old Orchard near univ. How about you?</td>\n",
       "      <td>37</td>\n",
       "      <td>2</td>\n",
       "    </tr>\n",
       "    <tr>\n",
       "      <th>3</th>\n",
       "      <td>ham</td>\n",
       "      <td>I like dis sweater fr mango but no more my siz...</td>\n",
       "      <td>70</td>\n",
       "      <td>1</td>\n",
       "    </tr>\n",
       "    <tr>\n",
       "      <th>4</th>\n",
       "      <td>ham</td>\n",
       "      <td>Can i meet ü at 5.. As 4 where depends on wher...</td>\n",
       "      <td>64</td>\n",
       "      <td>4</td>\n",
       "    </tr>\n",
       "  </tbody>\n",
       "</table>\n",
       "</div>"
      ],
      "text/plain": [
       "  label                                            message  length  punct\n",
       "0   ham         So i could kiss and feel you next to me...      42      3\n",
       "1   ham      &lt;#&gt;  am I think? Should say on syllabus      45      6\n",
       "2   ham              Old Orchard near univ. How about you?      37      2\n",
       "3   ham  I like dis sweater fr mango but no more my siz...      70      1\n",
       "4   ham  Can i meet ü at 5.. As 4 where depends on wher...      64      4"
      ]
     },
     "execution_count": 5,
     "metadata": {},
     "output_type": "execute_result"
    }
   ],
   "source": [
    "df = ham.append(spam, ignore_index=True)\n",
    "df.head()"
   ]
  },
  {
   "cell_type": "code",
   "execution_count": 6,
   "metadata": {},
   "outputs": [],
   "source": [
    "clf = Pipeline([('tfidf' ,TfidfVectorizer()),\n",
    "                ('estimator', SVC(C=100 , gamma='scale') )\n",
    "    \n",
    "])"
   ]
  },
  {
   "cell_type": "code",
   "execution_count": 7,
   "metadata": {},
   "outputs": [],
   "source": [
    "X = df['message']\n",
    "Y = df['label']\n",
    "\n",
    "X_train, X_test, y_train, y_test = train_test_split(X, Y , test_size=0.3)"
   ]
  },
  {
   "cell_type": "code",
   "execution_count": 8,
   "metadata": {},
   "outputs": [
    {
     "data": {
      "text/plain": [
       "Pipeline(steps=[('tfidf', TfidfVectorizer()), ('estimator', SVC(C=100))])"
      ]
     },
     "execution_count": 8,
     "metadata": {},
     "output_type": "execute_result"
    }
   ],
   "source": [
    "clf.fit(X_train , y_train)"
   ]
  },
  {
   "cell_type": "code",
   "execution_count": 9,
   "metadata": {},
   "outputs": [],
   "source": [
    "y_pred = clf.predict(X_test)"
   ]
  },
  {
   "cell_type": "code",
   "execution_count": 10,
   "metadata": {},
   "outputs": [
    {
     "name": "stdout",
     "output_type": "stream",
     "text": [
      "recall= 0.9375\n"
     ]
    },
    {
     "data": {
      "image/png": "[encoded data removed]",
      "text/plain": [
       "<Figure size 432x288 with 2 Axes>"
      ]
     },
     "metadata": {
      "needs_background": "light"
     },
     "output_type": "display_data"
    }
   ],
   "source": [
    "cmf_matrix = confusion_matrix(y_test, y_pred)\n",
    "sns.heatmap(cmf_matrix, annot=True, fmt= 'd')\n",
    "print('recall=',cmf_matrix[1,1]/(cmf_matrix[1,0]+cmf_matrix[1,1]))"
   ]
  },
  {
   "cell_type": "code",
   "execution_count": 11,
   "metadata": {},
   "outputs": [
    {
     "data": {
      "text/plain": [
       "0.9599109131403119"
      ]
     },
     "execution_count": 11,
     "metadata": {},
     "output_type": "execute_result"
    }
   ],
   "source": [
    "clf.score(X_test , y_test)"
   ]
  },
  {
   "cell_type": "code",
   "execution_count": 12,
   "metadata": {},
   "outputs": [
    {
     "name": "stdout",
     "output_type": "stream",
     "text": [
      "              precision    recall  f1-score   support\n",
      "\n",
      "         ham       0.94      0.98      0.96       225\n",
      "        spam       0.98      0.94      0.96       224\n",
      "\n",
      "    accuracy                           0.96       449\n",
      "   macro avg       0.96      0.96      0.96       449\n",
      "weighted avg       0.96      0.96      0.96       449\n",
      "\n"
     ]
    }
   ],
   "source": [
    "print(classification_report(y_test, y_pred))"
   ]
  },
  {
   "cell_type": "markdown",
   "metadata": {
    "id": "zZhH9aIXvOo8"
   },
   "source": [
    "# saving the model \n",
    "first we need to download the model on our local machine\n",
    "\n",
    "this is done by using a library called pickle, it's used to serialize and deserialize python objects."
   ]
  },
  {
   "cell_type": "code",
   "execution_count": 13,
   "metadata": {
    "id": "D_C40WEtvLqD"
   },
   "outputs": [],
   "source": [
    "import pickle"
   ]
  },
  {
   "cell_type": "code",
   "execution_count": 14,
   "metadata": {
    "id": "JukEkGlgw0-S"
   },
   "outputs": [
    {
     "data": {
      "text/plain": [
       "0.9599109131403119"
      ]
     },
     "execution_count": 14,
     "metadata": {},
     "output_type": "execute_result"
    }
   ],
   "source": [
    "#print your model's score\n",
    "score = clf.score(X_test , y_test)\n",
    "score"
   ]
  },
  {
   "cell_type": "code",
   "execution_count": 15,
   "metadata": {
    "id": "CkuD-VnBxHHp"
   },
   "outputs": [
    {
     "data": {
      "text/plain": [
       "0.9599109131403119"
      ]
     },
     "execution_count": 15,
     "metadata": {},
     "output_type": "execute_result"
    }
   ],
   "source": [
    "# we will store the model using pickle and reload it again,\n",
    "# then check the accuaracy from the reloaded model just to make sure it's the same one.\n",
    "\n",
    "saved_model=pickle.dumps(clf)\n",
    "modelfrom_pickle = pickle.loads(saved_model) \n",
    "score_from_pickle = modelfrom_pickle.score(X_test , y_test)\n",
    "score_from_pickle"
   ]
  },
  {
   "cell_type": "markdown",
   "metadata": {
    "id": "Cc7PRcq7yDWB"
   },
   "source": [
    "the accuracy scores should be the same.\n",
    "\n",
    "now we need to store the model in a file and download this file locally."
   ]
  },
  {
   "cell_type": "code",
   "execution_count": 16,
   "metadata": {
    "id": "c_NcNJgwyR_o"
   },
   "outputs": [],
   "source": [
    "#the below code generates a file and stores the model in it.\n",
    "filename = 'finalized_model.sav'\n",
    "pickle.dump(clf, open(filename, 'wb'))"
   ]
  },
  {
   "cell_type": "markdown",
   "metadata": {
    "id": "I9BZW2JkyffC"
   },
   "source": [
    "open your colab files and you should see a file named \"finalized_model.sav\".\n",
    "if you don't see it click the refresh button.\n",
    "finally, right-click the file and download it."
   ]
  },
  {
   "cell_type": "markdown",
   "metadata": {
    "id": "SBPl7Hga6_vW"
   },
   "source": [
    "# create the App"
   ]
  },
  {
   "cell_type": "markdown",
   "metadata": {
    "id": "YYsO3JcxzKTL"
   },
   "source": [
    "By following these steps we now have the model stored on a file on our machine. all we need to do now is to create a web app that uses our model to predict and link it to simple interface to interact with, very basic html files."
   ]
  },
  {
   "cell_type": "markdown",
   "metadata": {
    "id": "2lEJO0Z0zlXo"
   },
   "source": [
    "download the zipped file sent to your email, it includes 3 files: \n",
    "\n",
    "this_app.py\n",
    "\n",
    "home11.html\n",
    "\n",
    "result11.html\n",
    "\n"
   ]
  },
  {
   "cell_type": "markdown",
   "metadata": {
    "id": "qg64Tbyu0J1H"
   },
   "source": [
    "note that for the following steps, you need to have python installed on your local machines."
   ]
  },
  {
   "cell_type": "markdown",
   "metadata": {
    "id": "2nzbZQI40soo"
   },
   "source": [
    "open the \"this_app.py\" using VSCode or anyother editor. you will see that we are importing some libraries at the beginning of the file, so first we need to install these libraries on our machines, since they are not there by default.\n",
    "![image.png](data:image/png;base64,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)"
   ]
  },
  {
   "cell_type": "markdown",
   "metadata": {
    "id": "bjNX_J_41Fz3"
   },
   "source": [
    "on VSCode terminal -or on the cmd if you are not using VSCode- put the following commands, one by one, to install the packages.\n",
    "\n",
    "pip install flask\n",
    "\n",
    "pip install pickle\n",
    "\n",
    "pip install sklearn\n",
    "\n",
    "wait for each of the packages to be installed."
   ]
  },
  {
   "cell_type": "code",
   "execution_count": null,
   "metadata": {},
   "outputs": [],
   "source": []
  },
  {
   "cell_type": "markdown",
   "metadata": {
    "id": "R0Jgu1-Y199Y"
   },
   "source": [
    "we're gonna use pickle to deserialize the file that we downloaded from colab.\n",
    "this line handles it.\n",
    "![image.png](data:image/png;base64,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)\n",
    "\n",
    "if you changed the name of the file on colab, change it here as well to the same name."
   ]
  },
  {
   "cell_type": "markdown",
   "metadata": {
    "id": "BStdRcO52Pp3"
   },
   "source": [
    "now run \"this_app.py\" and in the terminal you will find the local ip that is hosting your app. the line should look like this.\n",
    "\n",
    "\n",
    "```\n",
    " * Running on http://127.0.0.1:5000\n",
    "```\n",
    "you may need to scroll up through other warning lines in the terminal to find this line. and don't worry about the warnings, it's fine as long as they are not errors.. yet 😜\n",
    "\n"
   ]
  },
  {
   "cell_type": "markdown",
   "metadata": {
    "id": "A7wpeGww4DU2"
   },
   "source": [
    "copy the url and go to your web browser and paste it. if everything went fine..  hopefuly 😆\n",
    "\n",
    " you should see this page.\n",
    "\n",
    "![image.png](data:image/png;base64,iVBORw0KGgoAAAANSUhEUgAAAZ4AAAGOCAYAAACnqmWUAAAVUElEQVR4nO3dT2hd57no4VeXO7DBA8cl3UpIa5k0tQaB+AwSqZQgn3pgBULlQhLpQA5WWojcSS0CRU4oJBk028UDuaVgNYPKFwJS6oDUUip14NgmBKntQCoErEMI0klLJVNqqRCQZt8d6L8lJ7Itv7bj54E90N5La317rXj9stf6tl1TSikBAEn+z50eAAD3F+EBIJXwAJBKeABIJTwApBIeAFIJDwCphAeAVMIDQCrhASBVSnjmJoajp/1gtPXPbMty1/3dY81Rd6Q/bvy3uWULMzHafzLa6mvj5OidHgxwN7vt4VmYGo3x8eHo+X+XYmEbltvU3EzM7V6I8V/9Mf73FsbKzVqIubmIHXPD8e7/XLnTgwHucrc9PDvqGuNgc3M0btNyK8YHY3j5o83u2qirbYyDLTc/Tm7FjthdWxsHDjTf6YEA94Ccezy7d0fddi4XC3HxbH/M3dKgALgT7snJBVP97dH28xu+IAfAXeDGwrMwEf2dzVFfWxM1NTVRW98cncNTG5ebG1280V9TEzW19dHWMxqbLLX15VYHEOM9zdH4X+/Glfht/NdDi+PYeDN7KgY7F9dbW98egxtWOhejPceiua4mampqo765M/onPvcOVEyN9sfJ9saoOzm6sh/qamqi9mBnLO6ChZjo71xcZ219tPWMb7hXNTfaE8ea61b3Xf/EumUWJvqjc+n1usYjcaz9RAzOrI5hZf01ddF45Fi0nxhcM5Fi6fX62qhZ2p/NncMb9+fc+mO47lF3OsZXBxODJ9uWlquLxvbTMXoDHzHnxnuirb42amrqovn06IZ9sTAxGCfb6qO2piZq6hqj/fTo6ifYuYm4uDJRYSHGe45EXU1dtK8cyBs9fsBdpWzZbBnqqJRo6S2TSz+PVBtKREvpm16z2PRAObq3Ulp7L5fZUkqZvVx6WyslIkrL2gW3utxmRqobt1umS19LlGjqKt29fWVkcrZMXx4ox5+IEi19ZXXRydLX2lS6hqbL/NrtVlrLwPU2Oz9bZsfOlMMRJTq6S9+ZgcX1j/WW1kqUONxd+s5US++Fy2V6+nIZ6GooEU+U7rHVVUz2tZamrqEyvbjRcrm3tVSiUlqXNzp/oXRVWsqZy7NLu3ukdB9efY/zF7pKpeVMWX25uxxe875mhzpKJVpK7+Ty69XSsGFfjpXuhiiV1r6VY3ih2lAiKqVjaHbN+x0p1abW0ju29Nz0UOlqiBIN1TI2/0XHJcrRam/pHbpcpmcny0h3S4molOrI2tVXS1Nrb1ldfVdpiCgN1bEyX+bL7OxsGTtzeHFdHd2lu6+3dDREqXRdKPM3c/yAu8oNhGey9LVUSsOZy6tPLZ1oVk8qS3E6OlBm1/7qdF9pWXcS3Opy1/F54WlZPqkuLxololqWhzh/oatUjl8o686fY9VSiShPrC3Fxo2WakSJrpF1z45VKyWiq1xY++Tk4vtYH5Xj5cL6jZZqJUo80V3GVt57Rxlau8zYQBlaWsV0X0uJjqGy/uWhlfBM9rWUSsOZsnp0lsa79oy/9D7XvYXZodJxzXKTvYdLU+/avVjK9EBriYj1gbrW0n8P69a/4ZhOlt7DTWX96qfLQGuUiI6ysvqldXUMrS/dzR8/4G5xA5fa6qJtcCZGj9VHzE3EcM+xaG57df0iMxfj7K+uREvzgdi99vnauvWz1ba63E3asW6V66e6TYyejSs//8/YufYS03+8Glci4q+jU1/8HaDd63+srWuMiN3rtrn8w8Ly1Z+J0Th75efxnzvXXtr6j3h1caMxNRMRtQej/ehwtDd3xtnRpVEcOBLNtUvbOdgeR4fbo7nzbKy+3BxLL0dd22DMjB6L+piLieGeONbcFtccnYjYEbURMTe35prZ0oSOyso7mInx4T/GpZf2rbsM99D33o2IiMHxz78YumEX1dZF/dqfZ8Zj+I+X4qV9a/fFQ7G4+sG4dvV1u9ft2Vs/fsAdd4OTCxbvndQfORlTdZ3Rf7Z6zcsTsXh62rHJ797Ectvg2i0sxJWI6kiUxU976x/9R1ZO5NtqIeJKVGNks22W/jhSGxFRG0fOjsfoiboYbj8QtfVtcfrimtNo7ZE4Oz4aJ+qGo/1AbdS3nY6L15xlpwY7o7n+SJycqovO/rNxzdGJOHAseqpNMfhGT1xcas/McH/0x+E42XZgdbgLES1905vuo5kTB65d6xda3+qFWIiW6JvebF/MxBet/o4cP2Bb3UB4xqPnYGO8seNEjF48G8ea62P3tWf1HRGViJhb+IIbvVtd7nYZHo+JDU8uxMXB4Rv/8urWNxrjGzcaCxcHY3hlo7ujrrkz+iemYvx0XQy2HYiDPeOrC++ui+bO/piYGo/TdYPRduBgLL883nMwGt/YESdGL8bZY81Rv+HgRETsiMbOk9FZPx49jbVRU1MbB09HnLg8GO3XzGP/7cWNkyMipmJwcJM3ccN+GxfHN9nTU4OxpdXfkeMHbJeth2f8YvRcuhLNRw5ee7VpVX1jtFciLvVf3HR22kpotrrcbVB/oCPi0hvReXp8/feAJs7GaDTens9g9QeiIy7FG52nY3z9RuPsaETjjoiYGYyzF5ff946obT4ZZ0/Wx6XhiZiJiJnBs7H6cm00nzwbJ+svxfDETESMx8WeS3Gl+UgcvO7BiYiYicH2k1H3Rn/0T8xEKTMxMXw62urXXZyM+oNPRPzqjei8Zjrg3HB/TNXVxy2prY/F1XdeM9twLob7p+KLVn9Hjh+wvbZ8N2jpJnGltbeMTc+WyZG+0n20afEG8MBkGRkaKfNlcfZWJaI0dPQtzcCaL9MXukpTRImW3jJ2ebLM3sBym1q68dzSe7lMj/WWvpH5UmaHyvFKlGhae4N9vgx1RIk4vOZm9mTpW5o9V9nfWo53d5fu4y1lf+v6SQkb3/9AORpRomNozbhmV9a/ds5FGauWJyJK05onl99vVPaX1uPdpbv7eGnZ31r6ljc63Vda9h4tvWOzSzfOF8e5OJNrcXLB3qO9ZWx2fnmFpbVSKV0X5svKxIpKa+kdmy6zkyOlr/vo4r7sGCiTI0NlZH71GO5taCpHj3eX7u7lR28ZGFszU2N+pFQbokRE2Xu4o3R1d5euo02lqTpSPm9S2+WlmWjrJiBcPlOaItZNCJhfmnEXsbcc7ugq3d1d5WhTU6mOrK59srdl6Rhfe1Ru8vgBd40bmNVWyuTA0bK/EiX2Hi7VoenFGVF7o+xtObNumu3kULW07q+UiErZ39pdRmZHSnXv4dJxZqhMzt74cpuMpAwc3bt4Ej8zVuaXTqix8mgpfdNLs7rWPFYnbk2XC91HS8PepZPf8b5yeQvThFcf1TJSNq6/pW96aRbdmseaKc/TF7rL0Ya9Syf046Vv7UanB8rRpqbStH/xpBqV/aW1+8Lq7w4cLU1NTYv7f+mk231hTSwmB8rR/ZXF91MdKtNltgx17C2xt6WcWTk482Wserjsb2paeu/rHw1rZ4XNXi59xw8vbq+yv7R2j1z/fwRK2fi+qyOLM/Gusy9mL/eV44f3l8ryexlZXvtSRK/zezd1/IC7Sk0ppdzWj1TcPRZG43RPxLHOjZekFqaG48TJuTjR0+YGPXBb3ZN/ZQ43YyYG24/ETOPm90F21O6OusZ60QFuu/97pwdAlrmYmboSP2s7ErtPdsaRgweidkdExELMjA9Hz2DEsZPtd3qQwH3Apbb7ydxUDPefjJ6zw/HbP/1vROyNhpbmaGvvjPYj9defrQiwjYQHgFRbvtR25cqVeP311+P999+Pf/7zn7dzTPCl9eCDD8Z3vvOdePPNN6NSqWy6zDvvvBOfffZZTE5OJo/u7rRv377YtWtXvPjii3d6KGyTLX/i+f73vx8DAwO3ezxwX/je974Xv/71rzc8/84778TOnTvj0KFDd2BUd6/z58/H/Py8+HxJbPkTz/vvvx8REb///e/j29/+9m0bEHyZffjhh/Hss8/GpUuXNn39s88+i2effTZ5VHe/Q4cORV9f350eBttky9Op//3vf0dEiA7cguU/P1evXt30dZfXrm9q6ov/ZnTuDbf0PZ6amprtGgcA9wlfIAUglfAAkEp44B42Pz8fr7zySjzwwAPrHqOjoze8rnPnzsVzzz133ftPt2J0dDSefvrp+PjjjyNicdyvv/76ys/cX4QH7lFXr16N//7v/46HHnooZmdnVx5DQ0PxzDPPxKlTp+70EFc0NjbGBx98EI899lhERPz1r39dmSnL/Ud44B51/vz5iIj4wQ9+sO75xsbGePvtt+NPf/rTbfn0ArdKeOAeduXKlfjXv/614fnnn38+3nvvvdizZ8/K5bhrPwGNjo5uelmuv7//upftPv7443j66afjD3/4Qzz33HMry5w6dWrDZb9XXnkl5ufnV7a1fKnt3Llz8cwzz8RHH30UTz311F31yYwcwgP3qAMHDkRExFNPPRXnzp3blnWeP38+3n///fjkk0/WXba7Nk7VajWq1erKMm+99VY8/PDD8cILL8Ts7Gx88skn8emnn8Yvf/nLDdt4/vnnY2hoKB5//PH485//HD/+8Y+3ZezcO4QH7lGPPfbYyqeFl19+eeWTxq1MEHj88cejWq3Gnj17ImLxst1rr70Wv/nNb1Y+vURE/OhHP1q5X/PNb34zDh06FK+99lo0NjZGRMSePXuioaEhpqen1/0eRAgP3NMaGxtXJhW8/fbbEbH4qeXRRx+9qUtYlUolvvKVr6x77umnn46//OUv8fe//33lua997Wu3NnDua8IDXxLPP/98zM7Oxj/+8Y946aWX4q233rrhadVf//rXY+fOnbdphLBIeOAedPXq1Xjuuec2vbezc+fO+OEPfxiPP/54/O1vf7uh9X766acujXHbCQ/cg5bvobz77rufez/n8y6JbRalzWbJffDBB/Hkk0/GI488cvMDhjWEB+5Ry9/fefnll9fF5+rVq/Hqq6/Gd7/73WhsbIydO3fGt771rfjd73638jcFfPzxx/GLX/xiwzo/+uijOHPmzMqnnnPnzsVbb70VL7zwwrZeglu+j7TZVHC+/Lb87/EAd5c9e/bEe++9F6dOnYpHH3103WtDQ0MrM8wiFu//TE1NxVNPPRURi/++zalTpzZMZT506FB84xvfiIcffjgiYmXK8/IMtu3yyCOPxJNPPhnPPPNMvPTSS/HTn/7UvaX7yJb/BdIHHnggIiJmZ2dXf7mmJrb468CSzf4sLevq6opXX301e0j3hGq1Gj/72c/u9DDYBi61AZBKeABIJTwApLql8Li/A8CN8okHgFRbDs/yXxr44Ycf3rbBwJfdpUuXImL1z9O19u3blzmce4p98+Wx5e/xNDU1xcDAQDz77LO3czxwXzh48OCmz+/atSvOnz8fhw4dSh7R3e38+fOxa9euOz0MtsmWv8dz5cqV+MlPfhIXLlzwbWO4SQ8++GAcOnQo3nzzzfjqV7+66TLvvPNOfPbZZzE5OZk8urvTvn37YteuXfHiiy/e6aGwTbYcHgDYDiYXAJBKeABIJTwApBIeAFIJDwCphAeAVMIDQCrhASCV8ACQSngASCU8AKQSHgBSCQ8AqYQHgFTCA0Aq4QEglfAAkEp4AEglPACkEh4AUgkPAKmEB4BUwgNAKuEBIJXwAJBKeABIJTwApBIeAFIJDwCphAeAVMIDQCrhASCV8ACQSngASCU8AKQSHgBSCQ8AqYQHgFTCA0Aq4QEglfAAkEp4AEglPACkEh4AUgkPAKmEB4BUwgNAKuEBIJXwAJBKeABIJTwApBIeAFIJDwCphAeAVMIDQCrhASCV8ACQSngASCU8AKQSHgBSCQ8AqYQHgFTCA0Aq4QEglfAAkEp4AEglPACkEh4AUgkPAKmEB4BUwgNAKuEBIJXwAJBKeABIJTwApBIeAFIJDwCphAeAVMIDQCrhASCV8ACQSngASCU8AKQSHgBSCQ8AqYQHgFTCA0Aq4QEglfAAkEp4AEglPACkEh4AUgkPAKmEB4BUwgNAKuEBIJXwAJBKeABIJTwApBIeAFIJDwCphAeAVMIDQCrhASCV8ACQSngASCU8AKQSHgBSCQ8AqYQHgFTCA0Aq4QEglfAAkEp4AEglPACkEh4AUgkPAKmEB4BUwgNAKuEBIJXwAJBKeABIJTwApBIeAFIJDwCphAeAVMIDQCrhASCV8ACQSngASCU8AKQSHgBSCQ8AqYQHgFTCA0Aq4QEglfAAkEp4AEglPACkEh4AUgkPAKmEB4BUwgNAKuEBIJXwAJBKeABIJTwApBIeAFIJDwCphAeAVMIDQCrhASCV8ACQSngASCU8AKQSHgBSCQ8AqYQHgFTCA0Aq4QEglfAAkEp4AEglPACkEh4AUgkPAKmEB4BUwgNAKuEBIJXwAJBKeABIJTwApBIeAFIJDwCphAeAVMIDQCrhASCV8ACQSngASCU8AKQSHgBSCQ8AqYQHgFTCA0Aq4QEglfAAkEp4AEglPACkEh4AUgkPAKmEB4BUwgNAKuEBIJXwAJBKeABIJTwApBIeAFIJDwCphAeAVMIDQCrhASCV8ACQSngASCU8AKQSHgBSCQ8AqYQHgFTCA0Aq4QEglfAAkEp4AEglPACkEh4AUgkPAKmEB4BUwgNAKuEBIJXwAJBKeABIJTwApBIeAFIJDwCphAeAVMIDQCrhASCV8ACQSngASCU8AKQSHgBSCQ8AqYQHgFTCA0Aq4QEglfAAkEp4AEglPACkEh4AUgkPAKmEB4BUwgNAKuEBIJXwAJBKeABIJTwApBIeAFIJDwCphAeAVMIDQCrhASCV8ACQSngASCU8AKQSHgBSCQ8AqYQHgFTCA0Aq4QEglfAAkEp4AEglPACkEh4AUgkPAKmEB4BUwgNAKuEBIJXwAJBKeABIJTwApBIeAFIJDwCphAeAVMIDQCrhASCV8ACQSngASCU8AKQSHgBSCQ8AqYQHgFTCA0Aq4QEglfAAkEp4AEglPACkEh4AUgkPAKmEB4BUwgNAKuEBIJXwAJBKeABIJTwApBIeAFIJDwCphAeAVMIDQCrhASCV8ACQSngASCU8AKQSHgBSCQ8AqYQHgFTCA0Aq4QEglfAAkEp4AEglPACkEh4AUgkPAKmEB4BUwgNAKuEBIJXwAJBKeABIJTwApBIeAFIJDwCphAeAVMIDQCrhASCV8ACQSngASCU8AKQSHgBSCQ8AqYQHgFTCA0Aq4QEglfAAkEp4AEglPACkEh4AUgkPAKmEB4BUwgNAKuEBIJXwAJBKeABIJTwApPr/vcxIRIkl5l4AAAAASUVORK5CYII=)"
   ]
  },
  {
   "cell_type": "markdown",
   "metadata": {
    "id": "0v5RQ3s25EyH"
   },
   "source": [
    "and we're done!\n",
    "put a message in the box and click submit, it will foroward you to the result of prediction.\n",
    "\n",
    "congratulations! you just finished your project 🎆🎆\n",
    "\n",
    "<center><img src=\"https://i.imgur.com/l5Yr3vV.png\" width=\"30%\">\n"
   ]
  },
  {
   "cell_type": "code",
   "execution_count": null,
   "metadata": {},
   "outputs": [],
   "source": []
  }
 ],
 "metadata": {
  "colab": {
   "collapsed_sections": [],
   "provenance": []
  },
  "kernelspec": {
   "display_name": "Python 3 (ipykernel)",
   "language": "python",
   "name": "python3"
  },
  "language_info": {
   "codemirror_mode": {
    "name": "ipython",
    "version": 3
   },
   "file_extension": ".py",
   "mimetype": "text/x-python",
   "name": "python",
   "nbconvert_exporter": "python",
   "pygments_lexer": "ipython3",
   "version": "3.9.12"
  }
 },
 "nbformat": 4,
 "nbformat_minor": 1
}
